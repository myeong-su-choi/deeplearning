{
 "cells": [
  {
   "cell_type": "markdown",
   "id": "48bccb79",
   "metadata": {},
   "source": [
    "## 드롭아웃\n",
    "\n",
    "- 과적합을 해결하는 방법으로 드롭아웃(dropout)이 있다.\n",
    "\n",
    "- 신경망 모델이 과적합되는 것을 피하기 위한 방법으로, 학습 과정 중 임의로 일부 노드들을 학습에서 제외시킨다.\n",
    "\n",
    "![Image](https://github.com/user-attachments/assets/43501886-138d-4999-9040-79bb86e424ea)\n",
    "\n",
    "- 드롭아웃은 미니배치를 실행할 때마다 뉴런을 랜덤하게 잘라내서 새로운 모델을 생성하는 정규화 방법이다.\n",
    "\n",
    "- 드롭아웃은 하나의 신경망 모델에서 무한히 많은 모델을 생성하는 배깅과 같다.\n",
    "\n",
    "- 드롭아웃은 계산 시간이 거의 들지 않고 다양한 모델에 쉽게 적용할 수 있는 강력한 정규화 기법이다."
   ]
  },
  {
   "cell_type": "markdown",
   "id": "28fbeb83",
   "metadata": {},
   "source": [
    "### 학습 단계\n",
    "\n",
    "- 드롭아웃은 미니배치를 실행할 때마다 뉴런을 랜덤하게 잘라내서 매번 다른 모델을 생성한다.\n",
    "\n",
    "![Image](https://github.com/user-attachments/assets/9e7dc74b-bf7d-4e33-a364-08a84fd5d272)\n",
    "\n",
    "- 미니배치를 실행할 때마다 계층별로 뉴런의 이진 마스크를 생성한다.\n",
    "\n",
    "- 이진 마스크는 뉴런별 드롭아웃 여부를 나타내며, 뉴런의 마스크값이 1이면 뉴런은 유지되고 마스크값이 0이면 드롭아웃 된다.\n",
    "\n",
    "- 계층 l의 드롭아웃은 다음과 같이 정의한다.\n",
    "\n",
    "$$ a^{(l)} = activation(W^{(l)T} x^{(l)} + b^{(l)}) $$\n",
    "$$ r^{(l)} \\sim \\text{Bern}(p) $$\n",
    "$$ \\tilde{a}^{(l)} = a^{(l)} \\odot r^{(l)} $$"
   ]
  },
  {
   "cell_type": "markdown",
   "id": "a1fb96ba",
   "metadata": {},
   "source": [
    "### 추론 단계\n",
    "\n",
    "- 추론 단계에서는 모든 뉴런이 활성화된다.\n",
    "\n",
    "- 학습 시에 뉴런을 유지할 확률이 p였다면 계층 l의 추론은 다음과 같이 정의한다.\n",
    "$$ a^{(l)} = activation(W^{(l)T} x^{(l)} + b^{(l)}) \\times p $$"
   ]
  },
  {
   "cell_type": "markdown",
   "id": "0cb296c8",
   "metadata": {},
   "source": [
    "### 역드롭아웃\n",
    "\n",
    "- 뉴런을 유지할 확률 p를 반드시 추론 시점에 곱해야 할까?\n",
    "\n",
    "- 훈련 시점에 각 게층의 출력을 미리 p로 나누어 두면 원래의 추론 코드를 그대로 사용할 수 있다.\n",
    "\n",
    "- 이런 아이디어를 적용한 방법이 역 드롭아웃이다.\n",
    "\n",
    "- 다음 식과 같이 훈련 단계에서 각 계층 l의 출력을 p로 나누어주면 된다.\n",
    "\n",
    "$$ a^{(l)} = activation(W^{(l)T} x^{(l)} + b^{(l)}) $$\n",
    "$$ r^{(l)} \\sim \\text{Bern}(p) $$\n",
    "$$ \\tilde{a}^{(l)} = a^{(l)} \\odot r^{(l)} / p $$"
   ]
  },
  {
   "cell_type": "code",
   "execution_count": 1,
   "id": "7e9a6acb",
   "metadata": {},
   "outputs": [],
   "source": [
    "import torch\n",
    "import torchvision.datasets as dsets\n",
    "import torchvision.transforms as transforms\n",
    "import random"
   ]
  },
  {
   "cell_type": "code",
   "execution_count": 2,
   "id": "37a5e391",
   "metadata": {},
   "outputs": [],
   "source": [
    "device = 'cuda' if torch.cuda.is_available() else 'cpu'\n",
    "\n",
    "# for reproducibility\n",
    "random.seed(777)\n",
    "torch.manual_seed(777)\n",
    "if device == 'cuda':\n",
    "    torch.cuda.manual_seed_all(777)"
   ]
  },
  {
   "cell_type": "code",
   "execution_count": 3,
   "id": "e6ed3e27",
   "metadata": {},
   "outputs": [],
   "source": [
    "# parameters\n",
    "learning_rate = 0.001\n",
    "training_epochs = 15\n",
    "batch_size = 100\n",
    "drop_prob = 0.3"
   ]
  },
  {
   "cell_type": "code",
   "execution_count": 4,
   "id": "689ee94b",
   "metadata": {},
   "outputs": [],
   "source": [
    "# MNIST dataset\n",
    "mnist_train = dsets.MNIST(root='MNIST_data/',\n",
    "                          train=True,\n",
    "                          transform=transforms.ToTensor(),\n",
    "                          download=True)\n",
    "\n",
    "mnist_test = dsets.MNIST(root='MNIST_data/',\n",
    "                         train=False,\n",
    "                         transform=transforms.ToTensor(),\n",
    "                         download=True)"
   ]
  },
  {
   "cell_type": "code",
   "execution_count": 5,
   "id": "f2fb528b",
   "metadata": {},
   "outputs": [],
   "source": [
    "# dataset loader\n",
    "data_loader = torch.utils.data.DataLoader(dataset=mnist_train,\n",
    "                                          batch_size=batch_size,\n",
    "                                          shuffle=True,\n",
    "                                          drop_last=True)"
   ]
  },
  {
   "cell_type": "code",
   "execution_count": 6,
   "id": "a1f4a62f",
   "metadata": {},
   "outputs": [],
   "source": [
    "# nn layers\n",
    "linear1 = torch.nn.Linear(784, 512, bias=True)\n",
    "linear2 = torch.nn.Linear(512, 512, bias=True)\n",
    "linear3 = torch.nn.Linear(512, 512, bias=True)\n",
    "linear4 = torch.nn.Linear(512, 512, bias=True)\n",
    "linear5 = torch.nn.Linear(512, 10, bias=True)\n",
    "relu = torch.nn.ReLU()\n",
    "dropout = torch.nn.Dropout(p=drop_prob)"
   ]
  },
  {
   "cell_type": "code",
   "execution_count": 7,
   "id": "32cce7c2",
   "metadata": {},
   "outputs": [
    {
     "data": {
      "text/plain": [
       "Parameter containing:\n",
       "tensor([[-0.0565,  0.0423, -0.0155,  ...,  0.1012,  0.0459, -0.0191],\n",
       "        [ 0.0772,  0.0452, -0.0638,  ...,  0.0476, -0.0638,  0.0528],\n",
       "        [ 0.0311, -0.1023, -0.0701,  ...,  0.0412, -0.1004,  0.0738],\n",
       "        ...,\n",
       "        [ 0.0334,  0.0187, -0.1021,  ...,  0.0280, -0.0583, -0.1018],\n",
       "        [-0.0506, -0.0939, -0.0467,  ..., -0.0554, -0.0325,  0.0640],\n",
       "        [-0.0183, -0.0123,  0.1025,  ..., -0.0214,  0.0220, -0.0741]],\n",
       "       requires_grad=True)"
      ]
     },
     "execution_count": 7,
     "metadata": {},
     "output_type": "execute_result"
    }
   ],
   "source": [
    "# xavier initialization\n",
    "torch.nn.init.xavier_uniform_(linear1.weight)\n",
    "torch.nn.init.xavier_uniform_(linear2.weight)\n",
    "torch.nn.init.xavier_uniform_(linear3.weight)\n",
    "torch.nn.init.xavier_uniform_(linear4.weight)\n",
    "torch.nn.init.xavier_uniform_(linear5.weight)"
   ]
  },
  {
   "cell_type": "code",
   "execution_count": 8,
   "id": "00a9759b",
   "metadata": {},
   "outputs": [],
   "source": [
    "# model\n",
    "model = torch.nn.Sequential(linear1, relu, dropout,\n",
    "                            linear2, relu, dropout,\n",
    "                            linear3, relu, dropout,\n",
    "                            linear4, relu, dropout,\n",
    "                            linear5).to(device)"
   ]
  },
  {
   "cell_type": "code",
   "execution_count": 9,
   "id": "1810e770",
   "metadata": {},
   "outputs": [],
   "source": [
    "# define cost/loss & optimizer\n",
    "criterion = torch.nn.CrossEntropyLoss().to(device)    # Softmax is internally computed.\n",
    "optimizer = torch.optim.Adam(model.parameters(), lr=learning_rate)"
   ]
  },
  {
   "cell_type": "code",
   "execution_count": 10,
   "id": "1c0311af",
   "metadata": {},
   "outputs": [
    {
     "name": "stdout",
     "output_type": "stream",
     "text": [
      "Epoch: 0001 cost = 0.310847819\n",
      "Epoch: 0002 cost = 0.143510714\n",
      "Epoch: 0003 cost = 0.113777391\n",
      "Epoch: 0004 cost = 0.094480618\n",
      "Epoch: 0005 cost = 0.084084092\n",
      "Epoch: 0006 cost = 0.074203303\n",
      "Epoch: 0007 cost = 0.068857266\n",
      "Epoch: 0008 cost = 0.064196247\n",
      "Epoch: 0009 cost = 0.059554481\n",
      "Epoch: 0010 cost = 0.057260883\n",
      "Epoch: 0011 cost = 0.052823010\n",
      "Epoch: 0012 cost = 0.052535421\n",
      "Epoch: 0013 cost = 0.043824003\n",
      "Epoch: 0014 cost = 0.047097244\n",
      "Epoch: 0015 cost = 0.043089768\n",
      "Learning finished\n"
     ]
    }
   ],
   "source": [
    "total_batch = len(data_loader)\n",
    "model.train()    # set the model to train mode (dropout=True)\n",
    "for epoch in range(training_epochs):\n",
    "    avg_cost = 0\n",
    "\n",
    "    for X, Y in data_loader:\n",
    "        # reshape input image into [batch_size by 784]\n",
    "        # label is not one-hot encoded\n",
    "        X = X.view(-1, 28 * 28).to(device)\n",
    "        Y = Y.to(device)\n",
    "\n",
    "        optimizer.zero_grad()\n",
    "        hypothesis = model(X)\n",
    "        cost = criterion(hypothesis, Y)\n",
    "        cost.backward()\n",
    "        optimizer.step()\n",
    "\n",
    "        avg_cost += cost.item()\n",
    "        \n",
    "    avg_cost /= total_batch\n",
    "\n",
    "    print('Epoch:', '%04d' % (epoch + 1), 'cost =', '{:.9f}'.format(avg_cost))\n",
    "\n",
    "print('Learning finished')"
   ]
  },
  {
   "cell_type": "code",
   "execution_count": 12,
   "id": "39cc9970",
   "metadata": {},
   "outputs": [
    {
     "name": "stdout",
     "output_type": "stream",
     "text": [
      "Accuracy: 0.9745000004768372\n",
      "Label:  5\n",
      "Prediction:  5\n"
     ]
    }
   ],
   "source": [
    "# Test model and check accuracy\n",
    "with torch.no_grad():\n",
    "    model.eval()    # set the model to evaluation mode (dropout=False)\n",
    "\n",
    "    # Test the model using test sets\n",
    "    X_test = mnist_test.test_data.view(-1, 28 * 28).float().to(device)\n",
    "    Y_test = mnist_test.test_labels.to(device)\n",
    "\n",
    "    prediction = model(X_test)\n",
    "    correct_prediction = torch.argmax(prediction, 1) == Y_test\n",
    "    accuracy = correct_prediction.float().mean()\n",
    "    print('Accuracy:', accuracy.item())\n",
    "\n",
    "    # Get one and predict\n",
    "    r = random.randint(0, len(mnist_test) - 1)\n",
    "    X_single_data = mnist_test.test_data[r:r + 1].view(-1, 28 * 28).float().to(device)\n",
    "    Y_single_data = mnist_test.test_labels[r:r + 1].to(device)\n",
    "\n",
    "    print('Label: ', Y_single_data.item())\n",
    "    single_prediction = model(X_single_data)\n",
    "    print('Prediction: ', torch.argmax(single_prediction, 1).item())"
   ]
  }
 ],
 "metadata": {
  "kernelspec": {
   "display_name": "venv",
   "language": "python",
   "name": "python3"
  },
  "language_info": {
   "codemirror_mode": {
    "name": "ipython",
    "version": 3
   },
   "file_extension": ".py",
   "mimetype": "text/x-python",
   "name": "python",
   "nbconvert_exporter": "python",
   "pygments_lexer": "ipython3",
   "version": "3.8.10"
  }
 },
 "nbformat": 4,
 "nbformat_minor": 5
}
