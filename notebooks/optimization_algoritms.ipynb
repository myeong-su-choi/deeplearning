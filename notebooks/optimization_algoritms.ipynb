{
 "cells": [
  {
   "cell_type": "markdown",
   "id": "e5db31cb",
   "metadata": {},
   "source": [
    "## 최적화 알고리즘"
   ]
  },
  {
   "cell_type": "markdown",
   "id": "6cfc2f1f",
   "metadata": {},
   "source": [
    "### 1. 아다그라드(Adagrad, Adaptive gradient)\n",
    "\n",
    "- 아다그라드는 변수(가중치)의 업데이트 횟수에 따라 학습률을 조정하는 방법이다\n",
    "\n",
    "- 아다그라드는 많이 변화하지 않는 변수들의 학습률은 크게 하고, 많이 여러 번 변화하는 변수들의 학습률은 작게 한다.\n",
    "\n",
    "- 즉, 많이 변화한 변수는 최적 값에 근접했을 것이라는 가정하에 작은 크기로 이동하면서 세밀하게 값을 조정하고, 반대로 적게 변화한 변수들은 학습률을 크게 하여 빠르게 오차 값을 줄이고자 하는 방법이다.\n",
    "\n",
    "$$w(i + 1) = w(i) - \\frac{\\eta}{\\sqrt{G(i) + \\epsilon}} \\nabla E(w(i))$$\n",
    "$$G(i) = G(i - 1) + (\\nabla E(w(i)))^2$$\n",
    "\n",
    "- 파라미터마다 다른 학습률을 주기 위해 G 함수를 추가한다.\n",
    "\n",
    "- 이때 G 값은 이전 G 값의 누적(기울기 크기의 누적)이다.\n",
    "\n",
    "- 기울기가 크면 G 값이 커지기 때문에 $\\frac{\\eta}{\\sqrt{G(i) + \\epsilon}}$ 값은 작아진다.\n",
    "\n",
    "- 즉, 파라미터가 많이 학습되었으면 작은 학습률로 업데이트되고, 파라미터 학습이 덜 되었으면 개선의 여지가 많기 때문에 높은 학습률로 업데이트 된다.\n",
    "\n",
    "- 아다그라드는 기울기가 0에 수렴하는 문제가 있어 사용하지 않으며, 대신에 알엠에스프롭을 사용한다."
   ]
  },
  {
   "cell_type": "markdown",
   "id": "cb799d95",
   "metadata": {},
   "source": [
    "### 2. 아다델타 (Adadelta, Adaptive delta)\n",
    "\n",
    "- 아다델타는 아다그라드에서 G 값이 커짐에 따라 아직 최소값에 도달하지 못한 경우에도 학습이 멈추는 문제를 해결하기 위해 등장한 방법이다.\n",
    "\n",
    "- 아다델타는 아다그라드의 수식에서 학습률($\\eta$)을 D 함수(가중치의 변화량($\\nabla$) 크기를 누적한 값)로 변환했기 때문에 학습률에 대한 하이퍼파라미터가 별도로 필요하지 않는다.\n",
    "\n",
    "$$ w(i + 1) = w(i) - \\frac{\\sqrt{D(i-1) + \\epsilon}}{\\sqrt{G(i) + \\epsilon}} \\nabla E(w(i)) $$\n",
    "$$ G(i) = \\gamma G(i-1) + (1-\\gamma)(\\nabla E(w(i)))^2 $$\n",
    "$$ D(i) = \\gamma D(i-1) + (1-\\gamma)(\\nabla(w(i)))^2 $$"
   ]
  },
  {
   "cell_type": "markdown",
   "id": "763f60a4",
   "metadata": {},
   "source": [
    "### 3. 알엠에스프롭(RMSProp)\n",
    "\n",
    "- 알엠에스프롭은 아다그라드의 $G(i)$ 값이 무한히 커지는 것을 방지하고자 제안된 방법이다.\n",
    "\n",
    "$$ w(i + 1) = w(i) - \\frac{\\eta}{\\sqrt{G(i) + \\epsilon}} \\nabla E(w(i)) $$\n",
    "$$ G(i) = \\gamma G(i - 1) + (1 - \\gamma)(\\nabla E(w(i)))^2 $$\n",
    "\n",
    "- 아다그라드에서 학습이 안 되는 문제를 해결하기 위해 G 함수에서 $\\gamma$만 추가한다.\n",
    "\n",
    "- 즉, G 값이 너무 크면 학습률이 작아져 학습이 안 될 수 있으므로 사용자가 $\\gamma$값을 이용하여 학습률 크기를 비율로 조정할 수 있도록 한다."
   ]
  },
  {
   "cell_type": "markdown",
   "id": "267023ab",
   "metadata": {},
   "source": [
    "### 4. 모멘텀(Momentum)\n",
    "\n",
    "- 경사 하강법과 마찬가지로 매번 기울기를 구하지만, 가중치를 수정하기 전에 이전 수정 방향(+, -)을 참고하여 같은 방향으로 일정한 비율만 수정하는 방법이다.\n",
    "\n",
    "- 수정이 양(+)의 방향과 음(-)의 방향으로 순차적으로 일어나는 지그재그 현상이 줄어들고, 이전 이동 값을 고려하여 일정 비율만큼 다음 값을 결정하므로 관성 효과를 얻을 수 있는 장점이 있다.\n",
    "\n",
    "- SGD(확률적 경사 하강법)와 함께 사용한다.\n",
    "\n",
    "    - 먼저 확률적 경사 하강법은 다음 수식에 의해 동작한다.\n",
    "\n",
    "    $$ w(i + 1) = w(i) - \\eta \\nabla E(w(i)) $$\n",
    "\n",
    "    - 이떄, $\\eta \\nabla E(w(i)) 수식을 사용하여 가중치를 계산하는데, 기울기 크기와 방향을 고려하여 가중치를 업데이트한다.\n",
    "\n",
    "    - 즉, 기울기가 양수로 크면 음(-) 방향으로 크게 업데이트한다.\n",
    "\n",
    "- 모멘텀에 SGD 적용 시 기울기$(\\eta \\nabla E(w(i)))$를 속도$(v, velocity)$로 대체하여 사용하는 방식으로, 이전 속도의 일정 부분을 반영한다.\n",
    "\n",
    "- 즉, 이전에 학습했던 속도와 현재 기울기를 반영해서 가중치를 구한다.\n",
    "\n",
    "$$ w(i + 1) = w(i) - v(i) $$\n",
    "$$ v(i) = \\gamma v(i - 1) + \\eta \\nabla E(w(i)) $$\n",
    "\n",
    "- momentum 값은 0.9에서 시작하며 0.95, 0.99처럼 조금씩 증가시키면서 사용한다."
   ]
  },
  {
   "cell_type": "markdown",
   "id": "5d5a4cd3",
   "metadata": {},
   "source": [
    "### 5. 네스테로프 모멘텀 (Nesterov Accelerated Gradient, NAG)\n",
    "\n",
    "- 네스테로프 모멘텀은 모멘텀 값과 기울기 값이 더해져 실제 값을 만드는 기존 모멘텀과 달리 모멘텀 값이 적용된 지점에서 기울기 값을 계산한다.\n",
    "\n",
    "- 모멘텀 방법은 멈추어야 할 시점에서도 관성에 의해 훨씬 멀리 갈 수 있는 단점이 있다. (오버 슈팅 문제)\n",
    "\n",
    "- 네스테로프 방법은 모멘텀으로 절반 정도 이동한 후 어떤 방식으로 이동해야 하는지 다시 계산하여 결정하기 때문에 모멘텀 방법의 단점을 극복할 수 있다.\n",
    "\n",
    "- 모멘텀 방법의 이점인 빠른 이동 속도는 그대로 가져가면서 멈추어야 할 적절한 시점에서 제동을 거는 데 훨씬 용이하다.\n",
    "\n",
    "- 수식은 다음과 같다.\n",
    "\n",
    "$$ w(i + 1) = w(i) - v(i) $$\n",
    "$$ v(i) = \\gamma v(i - 1) + \\eta \\nabla E(w(i) - \\gamma v(i - 1)) $$\n",
    "\n",
    "- 모멘텀과 비슷하지만 속도(v)를 구하는 과정에서 조금 차이가 있다.\n",
    "\n",
    "- 이전에 학습했던 속도에 현재 가중치에서 이전 속도를 일정 비율 뺀 변화량을 반영해서(더해서) 가중치를 구한다."
   ]
  },
  {
   "cell_type": "markdown",
   "id": "8ecf67fa",
   "metadata": {},
   "source": [
    "### 4. 아담(Adam, Adaptive Moment Estimation)\n",
    "\n",
    "- 아담은 알엠에스프롭과 모멘텀의 장점을 결합한 경사 하강법이다.\n",
    "\n",
    "- 알엠에스프롭 특징인 기울기의 제곱을 지수 평균한 값과 모멘텀 특징인 $v(i)$를 수식에 활용한다.\n",
    "\n",
    "- 즉, 알엠에스프롭의 $G$ 함수와 모멘텀의 $v(i)$를 사용하여 가중치를 업데이트한다.\n",
    "\n",
    "$$ w(i + 1) = w(i) - \\frac{\\eta}{\\sqrt{G(i) + \\epsilon}} v(i) $$\n",
    "\n",
    "$$ G(i) = \\gamma_2 G(i - 1) + (1 - \\gamma_2)(\\nabla (E(w(i))))^2 $$\n",
    "\n",
    "$$ v(i) = \\gamma_1 v(i - 1) + \\eta \\nabla E(w(i)) $$"
   ]
  },
  {
   "cell_type": "markdown",
   "id": "46d36833-05af-4c6e-879a-b248508daa00",
   "metadata": {},
   "source": [
    "## 손글씨 분류1"
   ]
  },
  {
   "cell_type": "code",
   "execution_count": 1,
   "id": "9a995c31-947b-4fe1-9694-b6d9f6867946",
   "metadata": {},
   "outputs": [],
   "source": [
    "# load_digits()를 통해 이미지 데이터 로드\n",
    "%matplotlib inline\n",
    "import matplotlib.pyplot as plt # 시각화를 위한 맷플롯립\n",
    "from sklearn.datasets import load_digits \n",
    "\n",
    "digits = load_digits() # 1,797개의 이미지 데이터 로드"
   ]
  },
  {
   "cell_type": "code",
   "execution_count": 2,
   "id": "b7b817f2-0e5b-44db-8f33-a1000e392968",
   "metadata": {},
   "outputs": [
    {
     "name": "stdout",
     "output_type": "stream",
     "text": [
      "[[ 0.  0.  5. 13.  9.  1.  0.  0.]\n",
      " [ 0.  0. 13. 15. 10. 15.  5.  0.]\n",
      " [ 0.  3. 15.  2.  0. 11.  8.  0.]\n",
      " [ 0.  4. 12.  0.  0.  8.  8.  0.]\n",
      " [ 0.  5.  8.  0.  0.  9.  8.  0.]\n",
      " [ 0.  4. 11.  0.  1. 12.  7.  0.]\n",
      " [ 0.  2. 14.  5. 10. 12.  0.  0.]\n",
      " [ 0.  0.  6. 13. 10.  0.  0.  0.]]\n"
     ]
    }
   ],
   "source": [
    "# 첫 번째 샘플 출력, 0을 흰색, 0보다 큰 숫자를 검은색 점이라고 볼 수 있음\n",
    "print(digits.images[0])"
   ]
  },
  {
   "cell_type": "code",
   "execution_count": 3,
   "id": "3e34d173",
   "metadata": {},
   "outputs": [
    {
     "name": "stdout",
     "output_type": "stream",
     "text": [
      "0\n"
     ]
    }
   ],
   "source": [
    "# 첫 번째 샘플의 레이블 확인\n",
    "print(digits.target[0])"
   ]
  },
  {
   "cell_type": "code",
   "execution_count": 4,
   "id": "b1e61ef8",
   "metadata": {},
   "outputs": [
    {
     "name": "stdout",
     "output_type": "stream",
     "text": [
      "전체 샘플의 수 : 1797\n"
     ]
    }
   ],
   "source": [
    "# 전체 샘플 갯수 확인\n",
    "print(\"전체 샘플의 수 : {}\".format(len(digits.images)))"
   ]
  },
  {
   "cell_type": "code",
   "execution_count": 5,
   "id": "375c57ab-97c5-435c-9820-b7639ca646c8",
   "metadata": {},
   "outputs": [
    {
     "data": {
      "image/png": "[encoded data removed]",
      "text/plain": [
       "<Figure size 640x480 with 5 Axes>"
      ]
     },
     "metadata": {},
     "output_type": "display_data"
    }
   ],
   "source": [
    "# 전체 샘플 중 상위 5개의 샘플만 시각화\n",
    "images_and_labels = list(zip(digits.images, digits.target))\n",
    "for index, (image, label) in enumerate(images_and_labels[:5]): # 5개의 샘플만 출력\n",
    "    plt.subplot(2, 5, index + 1)\n",
    "    plt.axis('off')\n",
    "    plt.imshow(image, cmap=plt.cm.gray_r, interpolation='nearest')\n",
    "    plt.title('sample: %i' % label)"
   ]
  },
  {
   "cell_type": "code",
   "execution_count": 6,
   "id": "6dea8377-74ff-4121-aa76-737f59e42d15",
   "metadata": {},
   "outputs": [
    {
     "name": "stdout",
     "output_type": "stream",
     "text": [
      "0 번 인덱스 샘플의 레이블 :  0\n",
      "1 번 인덱스 샘플의 레이블 :  1\n",
      "2 번 인덱스 샘플의 레이블 :  2\n",
      "3 번 인덱스 샘플의 레이블 :  3\n",
      "4 번 인덱스 샘플의 레이블 :  4\n"
     ]
    }
   ],
   "source": [
    "# 상위 5개의 레이블 확인\n",
    "for i in range(5):\n",
    "    print(i, '번 인덱스 샘플의 레이블 : ', digits.target[i])"
   ]
  },
  {
   "cell_type": "code",
   "execution_count": 7,
   "id": "fd2fca4f-2acb-4e38-ac89-55777b25cc9e",
   "metadata": {},
   "outputs": [
    {
     "name": "stdout",
     "output_type": "stream",
     "text": [
      "[ 0.  0.  5. 13.  9.  1.  0.  0.  0.  0. 13. 15. 10. 15.  5.  0.  0.  3.\n",
      " 15.  2.  0. 11.  8.  0.  0.  4. 12.  0.  0.  8.  8.  0.  0.  5.  8.  0.\n",
      "  0.  9.  8.  0.  0.  4. 11.  0.  1. 12.  7.  0.  0.  2. 14.  5. 10. 12.\n",
      "  0.  0.  0.  0.  6. 13. 10.  0.  0.  0.]\n"
     ]
    }
   ],
   "source": [
    "# digits.data를 이용해 첫 번째 샘플 출력\n",
    "print(digits.data[0])"
   ]
  },
  {
   "cell_type": "code",
   "execution_count": 8,
   "id": "3cce0909-025d-4b1f-8df1-cfb3c0ded170",
   "metadata": {},
   "outputs": [],
   "source": [
    "# data를 X에 저장하고 레이블을 Y에 저장\n",
    "X = digits.data   # 이미지. 즉, 특성 행렬\n",
    "Y = digits.target   # 각 이미지에 대한 레이블"
   ]
  },
  {
   "cell_type": "code",
   "execution_count": 9,
   "id": "12685a93-ba3a-41ec-95e4-81949577c813",
   "metadata": {},
   "outputs": [],
   "source": [
    "# 도구 임포트\n",
    "import torch \n",
    "import torch.nn as nn\n",
    "from torch import optim"
   ]
  },
  {
   "cell_type": "code",
   "execution_count": 10,
   "id": "82acf9c5",
   "metadata": {},
   "outputs": [],
   "source": [
    "# 모델 정의\n",
    "model = nn.Sequential(\n",
    "    nn.Linear(64, 32), # input_layer = 64, hidden_layer1 = 32\n",
    "    nn.ReLU(),\n",
    "    nn.Linear(32, 16), # hidden_layer1 = 32, hidden_layer2 = 16\n",
    "    nn.ReLU(),\n",
    "    nn.Linear(16, 10) # hidden_layer2 = 16, output_layer = 10\n",
    ")"
   ]
  },
  {
   "cell_type": "code",
   "execution_count": 11,
   "id": "715df74c",
   "metadata": {},
   "outputs": [],
   "source": [
    "# 데이터 로드\n",
    "X = torch.tensor(X, dtype=torch.float32)\n",
    "Y = torch.tensor(Y, dtype=torch.int64)"
   ]
  },
  {
   "cell_type": "code",
   "execution_count": 12,
   "id": "6c8a724f",
   "metadata": {},
   "outputs": [],
   "source": [
    "# 비용함수 정의\n",
    "loss_fn = nn.CrossEntropyLoss() # 이 비용 함수는 소프트맥스 함수를 포함하고 있음."
   ]
  },
  {
   "cell_type": "code",
   "execution_count": 13,
   "id": "5557dac9",
   "metadata": {},
   "outputs": [],
   "source": [
    "# 옵티마이저 정의\n",
    "optimizer = optim.Adam(model.parameters())"
   ]
  },
  {
   "cell_type": "code",
   "execution_count": 14,
   "id": "306bd1a5",
   "metadata": {},
   "outputs": [],
   "source": [
    "# 손실값\n",
    "losses = []"
   ]
  },
  {
   "cell_type": "code",
   "execution_count": 15,
   "id": "85851647",
   "metadata": {},
   "outputs": [
    {
     "name": "stdout",
     "output_type": "stream",
     "text": [
      "Epoch    0/100 Cost: 3.104278\n",
      "Epoch   10/100 Cost: 2.176201\n",
      "Epoch   20/100 Cost: 1.894731\n",
      "Epoch   30/100 Cost: 1.589913\n",
      "Epoch   40/100 Cost: 1.257655\n",
      "Epoch   50/100 Cost: 0.940435\n",
      "Epoch   60/100 Cost: 0.686137\n",
      "Epoch   70/100 Cost: 0.520678\n",
      "Epoch   80/100 Cost: 0.412468\n",
      "Epoch   90/100 Cost: 0.338691\n"
     ]
    }
   ],
   "source": [
    "# 훈련 실행\n",
    "for epoch in range(100):\n",
    "    optimizer.zero_grad()\n",
    "    y_pred = model(X) # forward 연산\n",
    "    loss = loss_fn(y_pred, Y)\n",
    "    loss.backward()\n",
    "    optimizer.step()\n",
    "\n",
    "    if epoch % 10 == 0:\n",
    "        print(\"Epoch {:4d}/{} Cost: {:.6f}\".format(epoch, 100, loss.item()))\n",
    "\n",
    "    losses.append(loss.item())"
   ]
  },
  {
   "cell_type": "code",
   "execution_count": 16,
   "id": "29fc599b",
   "metadata": {},
   "outputs": [
    {
     "data": {
      "text/plain": [
       "[<matplotlib.lines.Line2D at 0x18f53f3c700>]"
      ]
     },
     "execution_count": 16,
     "metadata": {},
     "output_type": "execute_result"
    },
    {
     "data": {
      "image/png": "[encoded data removed]",
      "text/plain": [
       "<Figure size 640x480 with 1 Axes>"
      ]
     },
     "metadata": {},
     "output_type": "display_data"
    }
   ],
   "source": [
    "# 손실값 확인\n",
    "plt.plot(losses)"
   ]
  },
  {
   "cell_type": "code",
   "execution_count": 17,
   "id": "af9a5878",
   "metadata": {},
   "outputs": [
    {
     "name": "stdout",
     "output_type": "stream",
     "text": [
      "예측 결과: 3\n",
      "이 이미지 데이터의 정답 레이블은 3.000000입니다.\n"
     ]
    },
    {
     "data": {
      "image/png": "[encoded data removed]",
      "text/plain": [
       "<Figure size 640x480 with 1 Axes>"
      ]
     },
     "metadata": {},
     "output_type": "display_data"
    }
   ],
   "source": [
    "# 모델 테스트\n",
    "import random\n",
    "\n",
    "r = random.randint(0, len(X) - 1)\n",
    "index = r\n",
    "model.eval()\n",
    "data = X[index]\n",
    "output = model(data)\n",
    "_, predicted = torch.max(output.data, 0)\n",
    "\n",
    "print(\"예측 결과: {}\".format(predicted))\n",
    "\n",
    "X_test_show = (X[index]).numpy()\n",
    "plt.imshow(X_test_show.reshape(8, 8), cmap='gray')\n",
    "print(\"이 이미지 데이터의 정답 레이블은 {:0f}입니다.\".format(Y[index]))"
   ]
  },
  {
   "cell_type": "markdown",
   "id": "35bd7762-830b-4978-9128-31976ad09954",
   "metadata": {},
   "source": [
    "## 손글씨 분류2"
   ]
  },
  {
   "cell_type": "code",
   "execution_count": 18,
   "id": "5186fbc1",
   "metadata": {},
   "outputs": [],
   "source": [
    "import torch.nn as nn\n",
    "import torch\n",
    "import matplotlib.pyplot as plt\n",
    "import numpy as np\n",
    "from torchvision import datasets\n",
    "from torchvision import transforms\n",
    "from torch.utils.data import DataLoader\n",
    "import torch.optim as optim\n",
    "import os\n",
    "os.environ['KMP_DUPLICATE_LIB_OK'] = 'True'"
   ]
  },
  {
   "cell_type": "code",
   "execution_count": 19,
   "id": "5dfaafc8",
   "metadata": {},
   "outputs": [],
   "source": [
    "class Net(nn.Module):\n",
    "    def __init__(self):\n",
    "        super(Net, self).__init__()\n",
    "        self.fc1 = nn.Linear(784, 100)\n",
    "        self.relu = nn.ReLU()\n",
    "        self.fc2 = nn.Linear(100, 100)\n",
    "        self.fc3 = nn.Linear(100, 10)\n",
    "    \n",
    "    def forward(self, x):\n",
    "        x1 = self.fc1(x)\n",
    "        x2 = self.relu(x1)\n",
    "        x3 = self.fc2(x2)\n",
    "        x4 = self.relu(x3)\n",
    "        x5 = self.fc3(x4)\n",
    "    \n",
    "        return x5"
   ]
  },
  {
   "cell_type": "code",
   "execution_count": 20,
   "id": "b435b1fc",
   "metadata": {},
   "outputs": [],
   "source": [
    "download_root = './MNIST_data'\n",
    "\n",
    "dataset1 = datasets.MNIST(root=download_root,\n",
    "                        train=True,\n",
    "                        transform=transforms.ToTensor(),\n",
    "                        download=True)\n",
    "\n",
    "dataset2 = datasets.MNIST(root=download_root,\n",
    "                        train=False,\n",
    "                        transform=transforms.ToTensor(),\n",
    "                        download=True)"
   ]
  },
  {
   "cell_type": "code",
   "execution_count": 21,
   "id": "5b743c81",
   "metadata": {},
   "outputs": [],
   "source": [
    "batch_s = 100\n",
    "\n",
    "# training dataset: dataset1_loader의 len은 600\n",
    "# test dataset: dataset2_loader의 len은 100\n",
    "dataset1_loader = DataLoader(dataset1, batch_size=batch_s)\n",
    "dataset2_loader = DataLoader(dataset2, batch_size=batch_s)"
   ]
  },
  {
   "cell_type": "code",
   "execution_count": 22,
   "id": "ceef7d74",
   "metadata": {},
   "outputs": [],
   "source": [
    "model_dict = {}\n",
    "loss_dict = {}\n",
    "accuracy_dict = {}\n",
    "\n",
    "# optimizer에 따른 학습 정도를 살펴볼 4가지 테스트 케이스\n",
    "optimizer_case = ['SGD', 'Adam', 'AdaGrad', 'RMSprop']\n",
    "for key in optimizer_case:\n",
    "    model_dict[key] = Net()\n",
    "    loss_dict[key] = []\n",
    "    accuracy_dict[key] = []"
   ]
  },
  {
   "cell_type": "code",
   "execution_count": 23,
   "id": "cb3b9e93",
   "metadata": {},
   "outputs": [],
   "source": [
    "# 4가지 테스트케이스에 대한 optimizer  정의\n",
    "optimizer_dict = {}\n",
    "optimizer_dict['SGD'] = optim.SGD(model_dict['SGD'].parameters(), lr=0.001)\n",
    "optimizer_dict['Adam'] = optim.Adam(model_dict['Adam'].parameters(), lr=0.001)\n",
    "optimizer_dict['AdaGrad'] = optim.Adagrad(model_dict['AdaGrad'].parameters(), lr=0.001)\n",
    "optimizer_dict['RMSprop'] = optim.RMSprop(model_dict['RMSprop'].parameters(), lr=0.001)"
   ]
  },
  {
   "cell_type": "code",
   "execution_count": 24,
   "id": "ca291454",
   "metadata": {},
   "outputs": [],
   "source": [
    "# loss_function, total batch size, epoch 정의\n",
    "loss_function = nn.CrossEntropyLoss()\n",
    "total_batch = len(dataset1_loader) # 600 (60000 / 100) => (train dataset / batch_size)\n",
    "epochs = np.arange(1, 16)"
   ]
  },
  {
   "cell_type": "code",
   "execution_count": 25,
   "id": "8aa2d6ed",
   "metadata": {},
   "outputs": [
    {
     "name": "stdout",
     "output_type": "stream",
     "text": [
      "SGD\n",
      "epoch : 1 | loss : 2.292336\n",
      "Accuracy : 20.46\n",
      "epoch : 2 | loss : 2.268920\n",
      "Accuracy : 31.99\n",
      "epoch : 3 | loss : 2.241601\n",
      "Accuracy : 37.99\n",
      "epoch : 4 | loss : 2.204941\n",
      "Accuracy : 39.35\n",
      "epoch : 5 | loss : 2.153587\n",
      "Accuracy : 40.82\n",
      "epoch : 6 | loss : 2.082559\n",
      "Accuracy : 45.73\n",
      "epoch : 7 | loss : 1.986774\n",
      "Accuracy : 52.59\n",
      "epoch : 8 | loss : 1.861760\n",
      "Accuracy : 59.27\n",
      "epoch : 9 | loss : 1.706327\n",
      "Accuracy : 65.23\n",
      "epoch : 10 | loss : 1.527432\n",
      "Accuracy : 69.82\n",
      "epoch : 11 | loss : 1.343604\n",
      "Accuracy : 73.89\n",
      "epoch : 12 | loss : 1.175998\n",
      "Accuracy : 76.46\n",
      "epoch : 13 | loss : 1.035915\n",
      "Accuracy : 78.88\n",
      "epoch : 14 | loss : 0.923821\n",
      "Accuracy : 80.47\n",
      "epoch : 15 | loss : 0.835301\n",
      "Accuracy : 81.86\n",
      "Adam\n",
      "epoch : 1 | loss : 0.410443\n",
      "Accuracy : 93.70\n",
      "epoch : 2 | loss : 0.181695\n",
      "Accuracy : 95.18\n",
      "epoch : 3 | loss : 0.126748\n",
      "Accuracy : 95.90\n",
      "epoch : 4 | loss : 0.094931\n",
      "Accuracy : 96.17\n",
      "epoch : 5 | loss : 0.074307\n",
      "Accuracy : 96.72\n",
      "epoch : 6 | loss : 0.059223\n",
      "Accuracy : 96.82\n",
      "epoch : 7 | loss : 0.047088\n",
      "Accuracy : 96.92\n",
      "epoch : 8 | loss : 0.038252\n",
      "Accuracy : 97.28\n",
      "epoch : 9 | loss : 0.031126\n",
      "Accuracy : 97.38\n",
      "epoch : 10 | loss : 0.025553\n",
      "Accuracy : 96.96\n",
      "epoch : 11 | loss : 0.021581\n",
      "Accuracy : 96.69\n",
      "epoch : 12 | loss : 0.021926\n",
      "Accuracy : 97.21\n",
      "epoch : 13 | loss : 0.020705\n",
      "Accuracy : 97.47\n",
      "epoch : 14 | loss : 0.016082\n",
      "Accuracy : 97.26\n",
      "epoch : 15 | loss : 0.013445\n",
      "Accuracy : 97.19\n",
      "AdaGrad\n",
      "epoch : 1 | loss : 0.958138\n",
      "Accuracy : 87.07\n",
      "epoch : 2 | loss : 0.496124\n",
      "Accuracy : 89.17\n",
      "epoch : 3 | loss : 0.417728\n",
      "Accuracy : 89.91\n",
      "epoch : 4 | loss : 0.381495\n",
      "Accuracy : 90.39\n",
      "epoch : 5 | loss : 0.359930\n",
      "Accuracy : 90.74\n",
      "epoch : 6 | loss : 0.345167\n",
      "Accuracy : 90.92\n",
      "epoch : 7 | loss : 0.334168\n",
      "Accuracy : 91.02\n",
      "epoch : 8 | loss : 0.325484\n",
      "Accuracy : 91.16\n",
      "epoch : 9 | loss : 0.318352\n",
      "Accuracy : 91.29\n",
      "epoch : 10 | loss : 0.312313\n",
      "Accuracy : 91.37\n",
      "epoch : 11 | loss : 0.307078\n",
      "Accuracy : 91.47\n",
      "epoch : 12 | loss : 0.302459\n",
      "Accuracy : 91.55\n",
      "epoch : 13 | loss : 0.298328\n",
      "Accuracy : 91.60\n",
      "epoch : 14 | loss : 0.294589\n",
      "Accuracy : 91.68\n",
      "epoch : 15 | loss : 0.291168\n",
      "Accuracy : 91.72\n",
      "RMSprop\n",
      "epoch : 1 | loss : 0.301417\n",
      "Accuracy : 94.19\n",
      "epoch : 2 | loss : 0.143783\n",
      "Accuracy : 95.92\n",
      "epoch : 3 | loss : 0.102726\n",
      "Accuracy : 96.65\n",
      "epoch : 4 | loss : 0.079087\n",
      "Accuracy : 96.85\n",
      "epoch : 5 | loss : 0.062550\n",
      "Accuracy : 97.14\n",
      "epoch : 6 | loss : 0.050108\n",
      "Accuracy : 97.27\n",
      "epoch : 7 | loss : 0.039824\n",
      "Accuracy : 97.37\n",
      "epoch : 8 | loss : 0.032418\n",
      "Accuracy : 97.08\n",
      "epoch : 9 | loss : 0.025970\n",
      "Accuracy : 97.28\n",
      "epoch : 10 | loss : 0.021777\n",
      "Accuracy : 97.03\n",
      "epoch : 11 | loss : 0.018330\n",
      "Accuracy : 96.96\n",
      "epoch : 12 | loss : 0.014779\n",
      "Accuracy : 97.01\n",
      "epoch : 13 | loss : 0.014039\n",
      "Accuracy : 97.16\n",
      "epoch : 14 | loss : 0.012716\n",
      "Accuracy : 97.33\n",
      "epoch : 15 | loss : 0.011163\n",
      "Accuracy : 97.55\n"
     ]
    }
   ],
   "source": [
    "# 총 4가지 optimizer를 사용하여 학습\n",
    "for optimizer_name, optimizer in optimizer_dict.items():\n",
    "    print(optimizer_name)\n",
    "    for epoch in epochs:\n",
    "        cost = 0\n",
    "        for images, labels in dataset1_loader: # dataloader는 image와 label로 구성\n",
    "            # 하나의 Tensor에 데이터 784(28x28)개가 담긴 리스트가 100개 들어있음\n",
    "            # 그리고 그것이 총 dataset1_loader의 len인 600개가 존재\n",
    "            images = images.reshape(100, 784)\n",
    "\n",
    "            model_dict[optimizer_name].zero_grad()\n",
    "\n",
    "            # feed forward\n",
    "            predict = model_dict[optimizer_name].forward(images)\n",
    "\n",
    "            # loss 값 구하기\n",
    "            loss = loss_function(predict, labels) # 예측된 것과 label이 얼마나 차이가 나는지\n",
    "\n",
    "            # back propagation\n",
    "            loss.backward()\n",
    "\n",
    "            # optimizer update\n",
    "            optimizer.step()\n",
    "\n",
    "            cost += loss # 총 600번의 loss를 더한다\n",
    "\n",
    "        with torch.no_grad(): # 추론 시 미분하지 않겠다\n",
    "            total = 0\n",
    "            correct = 0\n",
    "            for images, labels in dataset2_loader:\n",
    "                images = images.reshape(100, 784)\n",
    "\n",
    "                outputs = model_dict[optimizer_name].forward(images)\n",
    "\n",
    "                # torch.max에서 두 번째 인자는 dim을 의미\n",
    "                # 1로 지정했다는 것은 하나의 행에서 가장 큰 값을 찾겠다는 것\n",
    "                # dim을 지정하면 인덱스에 있는 값과 인덱스를 반환\n",
    "                _, predict = torch.max(outputs, 1)\n",
    "                total += labels.size(0)\n",
    "                correct += (predict == labels).sum() # 예측한 것과 labels이 얼마나 일치하는지\n",
    "        \n",
    "        avg_cost = cost / total_batch # loss 값 600개의 평균\n",
    "        accuracy = 100 * (correct / total)\n",
    "\n",
    "        loss_dict[optimizer_name].append(avg_cost.detach().numpy())\n",
    "        accuracy_dict[optimizer_name].append(accuracy)\n",
    "\n",
    "        print(\"epoch : {} | loss : {:.6f}\".format(epoch, avg_cost))\n",
    "        print(\"Accuracy : {:.2f}\".format(accuracy))        "
   ]
  },
  {
   "cell_type": "code",
   "execution_count": 26,
   "id": "0d96071c",
   "metadata": {},
   "outputs": [
    {
     "data": {
      "image/png": "[encoded data removed]",
      "text/plain": [
       "<Figure size 1000x500 with 2 Axes>"
      ]
     },
     "metadata": {},
     "output_type": "display_data"
    }
   ],
   "source": [
    "markers = {'SGD' : 'o', 'Adam' : 'x', 'AdaGrad' : 's', 'RMSprop' : 'D'}\n",
    "plt.figure(figsize=(10, 5))\n",
    "plt.subplot(1, 2, 1)\n",
    "\n",
    "for key in optimizer_case:\n",
    "    plt.plot(epochs, loss_dict[key], marker=markers[key], markevery=100, label=key)\n",
    "plt.xlabel('Epoch')\n",
    "plt.ylabel('Loss')\n",
    "\n",
    "plt.legend()\n",
    "\n",
    "plt.subplot(1, 2, 2)\n",
    "for key in optimizer_case:\n",
    "    plt.plot(epochs, accuracy_dict[key], marker=markers[key], markevery=100, label=key)\n",
    "plt.xlabel('Epoch')\n",
    "plt.ylabel('Accuracy')\n",
    "\n",
    "plt.show()"
   ]
  }
 ],
 "metadata": {
  "kernelspec": {
   "display_name": "venv",
   "language": "python",
   "name": "python3"
  },
  "language_info": {
   "codemirror_mode": {
    "name": "ipython",
    "version": 3
   },
   "file_extension": ".py",
   "mimetype": "text/x-python",
   "name": "python",
   "nbconvert_exporter": "python",
   "pygments_lexer": "ipython3",
   "version": "3.8.10"
  }
 },
 "nbformat": 4,
 "nbformat_minor": 5
}
