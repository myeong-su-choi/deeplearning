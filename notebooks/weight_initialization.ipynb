{
 "cells": [
  {
   "cell_type": "markdown",
   "id": "203903bc",
   "metadata": {},
   "source": [
    "## 가중치 초기화"
   ]
  },
  {
   "cell_type": "markdown",
   "id": "b3e109b6",
   "metadata": {},
   "source": [
    "### Xavier Normal initialization\n",
    "\n",
    "$$ W \\sim N(0, Var(W)) $$\n",
    "$$ Var(W) = \\sqrt{\\frac{2}{n_{in} + n_{out}}} $$\n",
    "\n",
    "### Xavier Uniform initialization\n",
    "\n",
    "$$ W \\sim U(- \\sqrt{\\frac{6}{n_{in} + n_{out}}}, + \\sqrt{\\frac{6}{n_{in} + n_{out}}}) $$"
   ]
  },
  {
   "cell_type": "code",
   "execution_count": 10,
   "id": "1854bda8",
   "metadata": {},
   "outputs": [],
   "source": [
    "import torch\n",
    "import torchvision.datasets as dsets\n",
    "import torchvision.transforms as transforms\n",
    "import random"
   ]
  },
  {
   "cell_type": "code",
   "execution_count": 11,
   "id": "3f3916cd",
   "metadata": {},
   "outputs": [],
   "source": [
    "device = 'cuda' if torch.cuda.is_available() else 'cpu'\n",
    "\n",
    "# for reproducibility\n",
    "random.seed(777)\n",
    "torch.manual_seed(777)\n",
    "if device == 'cuda':\n",
    "    torch.cuda.manual_seed_all(777)"
   ]
  },
  {
   "cell_type": "code",
   "execution_count": 12,
   "id": "bb701a06",
   "metadata": {},
   "outputs": [],
   "source": [
    "# parameters\n",
    "learning_rate = 0.001\n",
    "training_epochs = 15\n",
    "batch_size = 100"
   ]
  },
  {
   "cell_type": "code",
   "execution_count": 13,
   "id": "e3afded4",
   "metadata": {},
   "outputs": [],
   "source": [
    "# MNIST dataset\n",
    "mnist_train = dsets.MNIST(root='MNIST_data/',\n",
    "                          train=True,\n",
    "                          transform=transforms.ToTensor(),\n",
    "                          download=True)\n",
    "\n",
    "mnist_test = dsets.MNIST(root='MNIST_data/',\n",
    "                         train=False,\n",
    "                         transform=transforms.ToTensor(),\n",
    "                         download=True)"
   ]
  },
  {
   "cell_type": "code",
   "execution_count": 14,
   "id": "bdd4aac5",
   "metadata": {},
   "outputs": [],
   "source": [
    "# dataset loader\n",
    "data_loader = torch.utils.data.DataLoader(dataset=mnist_train,\n",
    "                                          batch_size=batch_size,\n",
    "                                          shuffle=True,\n",
    "                                          drop_last=True)"
   ]
  },
  {
   "cell_type": "code",
   "execution_count": 15,
   "id": "d76d861e",
   "metadata": {},
   "outputs": [],
   "source": [
    "# nn layers\n",
    "linear1 = torch.nn.Linear(784, 256, bias=True)\n",
    "linear2 = torch.nn.Linear(256, 256, bias=True)\n",
    "linear3 = torch.nn.Linear(256, 10, bias=True)\n",
    "relu = torch.nn.ReLU()"
   ]
  },
  {
   "cell_type": "code",
   "execution_count": 16,
   "id": "b29213a3",
   "metadata": {},
   "outputs": [
    {
     "data": {
      "text/plain": [
       "Parameter containing:\n",
       "tensor([[-0.0215, -0.0894,  0.0598,  ...,  0.0200,  0.0203,  0.1212],\n",
       "        [ 0.0078,  0.1378,  0.0920,  ...,  0.0975,  0.1458, -0.0302],\n",
       "        [ 0.1270, -0.1296,  0.1049,  ...,  0.0124,  0.1173, -0.0901],\n",
       "        ...,\n",
       "        [ 0.0661, -0.1025,  0.1437,  ...,  0.0784,  0.0977, -0.0396],\n",
       "        [ 0.0430, -0.1274, -0.0134,  ..., -0.0582,  0.1201,  0.1479],\n",
       "        [-0.1433,  0.0200, -0.0568,  ...,  0.0787,  0.0428, -0.0036]],\n",
       "       requires_grad=True)"
      ]
     },
     "execution_count": 16,
     "metadata": {},
     "output_type": "execute_result"
    }
   ],
   "source": [
    "# xavier initialization\n",
    "torch.nn.init.xavier_uniform_(linear1.weight)\n",
    "torch.nn.init.xavier_uniform_(linear2.weight)\n",
    "torch.nn.init.xavier_uniform_(linear3.weight)"
   ]
  },
  {
   "cell_type": "code",
   "execution_count": 17,
   "id": "e79d9ed4",
   "metadata": {},
   "outputs": [],
   "source": [
    "# model\n",
    "model = torch.nn.Sequential(linear1, relu, linear2, relu, linear3).to(device)"
   ]
  },
  {
   "cell_type": "code",
   "execution_count": 18,
   "id": "533b1134",
   "metadata": {},
   "outputs": [],
   "source": [
    "# define cost/loss & optimizer\n",
    "criterion = torch.nn.CrossEntropyLoss().to(device)    # Softmax is internally computed.\n",
    "optimizer = torch.optim.Adam(model.parameters(), lr=learning_rate)"
   ]
  },
  {
   "cell_type": "code",
   "execution_count": 19,
   "id": "d011b1b1",
   "metadata": {},
   "outputs": [
    {
     "name": "stdout",
     "output_type": "stream",
     "text": [
      "Epoch: 0001 cost = 0.246791000\n",
      "Epoch: 0002 cost = 0.092913982\n",
      "Epoch: 0003 cost = 0.061181259\n",
      "Epoch: 0004 cost = 0.043839336\n",
      "Epoch: 0005 cost = 0.032600096\n",
      "Epoch: 0006 cost = 0.025538676\n",
      "Epoch: 0007 cost = 0.020199952\n",
      "Epoch: 0008 cost = 0.019448803\n",
      "Epoch: 0009 cost = 0.015196425\n",
      "Epoch: 0010 cost = 0.012831674\n",
      "Epoch: 0011 cost = 0.014177091\n",
      "Epoch: 0012 cost = 0.009955725\n",
      "Epoch: 0013 cost = 0.012739657\n",
      "Epoch: 0014 cost = 0.011522935\n",
      "Epoch: 0015 cost = 0.008984332\n",
      "Learning finished\n"
     ]
    }
   ],
   "source": [
    "total_batch = len(data_loader)\n",
    "for epoch in range(training_epochs):\n",
    "    avg_cost = 0\n",
    "\n",
    "    for X, Y in data_loader:\n",
    "        # reshape input image into [batch_size by 784]\n",
    "        # label is not one-hot encoded\n",
    "        X = X.view(-1, 28 * 28).to(device)\n",
    "        Y = Y.to(device)\n",
    "\n",
    "        optimizer.zero_grad()\n",
    "        hypothesis = model(X)\n",
    "        cost = criterion(hypothesis, Y)\n",
    "        cost.backward()\n",
    "        optimizer.step()\n",
    "\n",
    "        avg_cost += cost.item()\n",
    "        \n",
    "    avg_cost /= total_batch\n",
    "\n",
    "    print('Epoch:', '%04d' % (epoch + 1), 'cost =', '{:.9f}'.format(avg_cost))\n",
    "\n",
    "print('Learning finished')"
   ]
  },
  {
   "cell_type": "code",
   "execution_count": 21,
   "id": "b6ab5839",
   "metadata": {},
   "outputs": [
    {
     "name": "stdout",
     "output_type": "stream",
     "text": [
      "Accuracy: 0.979699969291687\n",
      "Label:  5\n",
      "Prediction:  5\n"
     ]
    }
   ],
   "source": [
    "# Test the model using test sets\n",
    "with torch.no_grad():\n",
    "    X_test = mnist_test.test_data.view(-1, 28 * 28).float().to(device)\n",
    "    Y_test = mnist_test.test_labels.to(device)\n",
    "\n",
    "    prediction = model(X_test)\n",
    "    correct_prediction = torch.argmax(prediction, 1) == Y_test\n",
    "    accuracy = correct_prediction.float().mean()\n",
    "    print('Accuracy:', accuracy.item())\n",
    "\n",
    "    # Get one and predict\n",
    "    r = random.randint(0, len(mnist_test) - 1)\n",
    "    X_single_data = mnist_test.test_data[r:r + 1].view(-1, 28 * 28).float().to(device)\n",
    "    Y_single_data = mnist_test.test_labels[r:r + 1].to(device)\n",
    "\n",
    "    print('Label: ', Y_single_data.item())\n",
    "    single_prediction = model(X_single_data)\n",
    "    print('Prediction: ', torch.argmax(single_prediction, 1).item())"
   ]
  },
  {
   "cell_type": "markdown",
   "id": "459172d3",
   "metadata": {},
   "source": [
    "### He Normal initialization\n",
    "\n",
    "$$ W \\sim N(0, Var(W)) $$\n",
    "$$ Var(W) = \\sqrt{\\frac{2}{n_{in}}} $$\n",
    "\n",
    "### He Uniform initialization\n",
    "\n",
    "$$ W \\sim U(- \\sqrt{\\frac{6}{n_{in}}}, + \\sqrt{\\frac{6}{n_{in}}}) $$"
   ]
  },
  {
   "cell_type": "code",
   "execution_count": 22,
   "id": "c1ccbf20",
   "metadata": {},
   "outputs": [
    {
     "data": {
      "text/plain": [
       "Parameter containing:\n",
       "tensor([[ 0.0994,  0.1391, -0.0192,  ..., -0.0012,  0.0045,  0.0993],\n",
       "        [ 0.1422,  0.0913, -0.1280,  ..., -0.0883,  0.1043,  0.0608],\n",
       "        [-0.0659, -0.1194, -0.0801,  ...,  0.0895, -0.0209, -0.0917],\n",
       "        ...,\n",
       "        [ 0.1256,  0.0296,  0.0326,  ..., -0.0182, -0.0230,  0.0749],\n",
       "        [-0.0263, -0.1397,  0.0329,  ..., -0.0692, -0.0783, -0.1528],\n",
       "        [ 0.1404,  0.0541, -0.1363,  ..., -0.0020,  0.0851,  0.0032]],\n",
       "       device='cuda:0', requires_grad=True)"
      ]
     },
     "execution_count": 22,
     "metadata": {},
     "output_type": "execute_result"
    }
   ],
   "source": [
    "# He Initialization \n",
    "torch.nn.init.kaiming_uniform_(linear1.weight, mode='fan_in', nonlinearity='relu')\n",
    "torch.nn.init.kaiming_uniform_(linear2.weight, mode='fan_in', nonlinearity='relu')\n",
    "torch.nn.init.kaiming_uniform_(linear3.weight, mode='fan_in', nonlinearity='relu')"
   ]
  },
  {
   "cell_type": "code",
   "execution_count": 23,
   "id": "85c0704d",
   "metadata": {},
   "outputs": [],
   "source": [
    "optimizer = torch.optim.Adam(model.parameters(), lr=learning_rate)"
   ]
  },
  {
   "cell_type": "code",
   "execution_count": 24,
   "id": "3aad0594",
   "metadata": {},
   "outputs": [
    {
     "name": "stdout",
     "output_type": "stream",
     "text": [
      "Epoch: 0001 cost = 0.235164701\n",
      "Epoch: 0002 cost = 0.089944864\n",
      "Epoch: 0003 cost = 0.057343189\n",
      "Epoch: 0004 cost = 0.039686907\n",
      "Epoch: 0005 cost = 0.031052398\n",
      "Epoch: 0006 cost = 0.025835211\n",
      "Epoch: 0007 cost = 0.018439866\n",
      "Epoch: 0008 cost = 0.014824807\n",
      "Epoch: 0009 cost = 0.015250146\n",
      "Epoch: 0010 cost = 0.013935009\n",
      "Epoch: 0011 cost = 0.012784812\n",
      "Epoch: 0012 cost = 0.012120698\n",
      "Epoch: 0013 cost = 0.012084293\n",
      "Epoch: 0014 cost = 0.008108170\n",
      "Epoch: 0015 cost = 0.010945360\n",
      "Learning finished\n"
     ]
    }
   ],
   "source": [
    "total_batch = len(data_loader)\n",
    "for epoch in range(training_epochs):\n",
    "    avg_cost = 0\n",
    "\n",
    "    for X, Y in data_loader:\n",
    "        # reshape input image into [batch_size by 784]\n",
    "        # label is not one-hot encoded\n",
    "        X = X.view(-1, 28 * 28).to(device)\n",
    "        Y = Y.to(device)\n",
    "\n",
    "        optimizer.zero_grad()\n",
    "        hypothesis = model(X)\n",
    "        cost = criterion(hypothesis, Y)\n",
    "        cost.backward()\n",
    "        optimizer.step()\n",
    "\n",
    "        avg_cost += cost.item()\n",
    "        \n",
    "    avg_cost /= total_batch\n",
    "\n",
    "    print('Epoch:', '%04d' % (epoch + 1), 'cost =', '{:.9f}'.format(avg_cost))\n",
    "\n",
    "print('Learning finished')"
   ]
  },
  {
   "cell_type": "code",
   "execution_count": 25,
   "id": "8e885fb8",
   "metadata": {},
   "outputs": [
    {
     "name": "stdout",
     "output_type": "stream",
     "text": [
      "Accuracy: 0.9785999655723572\n",
      "Label:  7\n",
      "Prediction:  7\n"
     ]
    }
   ],
   "source": [
    "# Test the model using test sets\n",
    "with torch.no_grad():\n",
    "    X_test = mnist_test.test_data.view(-1, 28 * 28).float().to(device)\n",
    "    Y_test = mnist_test.test_labels.to(device)\n",
    "\n",
    "    prediction = model(X_test)\n",
    "    correct_prediction = torch.argmax(prediction, 1) == Y_test\n",
    "    accuracy = correct_prediction.float().mean()\n",
    "    print('Accuracy:', accuracy.item())\n",
    "\n",
    "    # Get one and predict\n",
    "    r = random.randint(0, len(mnist_test) - 1)\n",
    "    X_single_data = mnist_test.test_data[r:r + 1].view(-1, 28 * 28).float().to(device)\n",
    "    Y_single_data = mnist_test.test_labels[r:r + 1].to(device)\n",
    "\n",
    "    print('Label: ', Y_single_data.item())\n",
    "    single_prediction = model(X_single_data)\n",
    "    print('Prediction: ', torch.argmax(single_prediction, 1).item())"
   ]
  }
 ],
 "metadata": {
  "kernelspec": {
   "display_name": "venv",
   "language": "python",
   "name": "python3"
  },
  "language_info": {
   "codemirror_mode": {
    "name": "ipython",
    "version": 3
   },
   "file_extension": ".py",
   "mimetype": "text/x-python",
   "name": "python",
   "nbconvert_exporter": "python",
   "pygments_lexer": "ipython3",
   "version": "3.8.10"
  }
 },
 "nbformat": 4,
 "nbformat_minor": 5
}
