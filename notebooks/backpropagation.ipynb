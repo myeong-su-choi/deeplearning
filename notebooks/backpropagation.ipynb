{
 "cells": [
  {
   "cell_type": "markdown",
   "id": "069edc16",
   "metadata": {},
   "source": [
    "## 역전파"
   ]
  },
  {
   "cell_type": "markdown",
   "id": "ff215481",
   "metadata": {},
   "source": [
    "![Image](https://github.com/user-attachments/assets/50350ad3-cbd1-4d83-a14b-5fa63354b992)\n",
    "\n",
    "$$ s_3 = w_1 z_1 + w_2 z_2 + b_3 $$\n",
    "\n",
    "$$ z_3 = 1 / (1 + e^{-s_3}) $$\n",
    "\n",
    "---\n",
    "\n",
    "$$ \\text{For n-th input data within one epoch} $$\n",
    "\n",
    "$$ \\text{Let } y = y^{(n)} $$\n",
    "\n",
    "$$ C^{(n)} = \\frac{1}{2} (z_3 - y)^2 $$\n",
    "\n",
    "---\n",
    "\n",
    "$$\\frac{\\partial C^{(n)}}{\\partial w_1} \n",
    "= \\frac{d C^{(n)}}{d s_3} \\cdot \\textcolor{purple}{\\frac{\\partial s_3}{\\partial w_1}}\n",
    "= \\textcolor{green}{\\frac{d C^{(n)}}{d s_3}} \\cdot \\textcolor{purple}{z_1} \\qquad \\text{(3)}$$\n",
    "\n",
    "$$\\frac{\\partial C^{(n)}}{\\partial w_2} \n",
    "= \\frac{d C^{(n)}}{d s_3} \\cdot \\textcolor{purple}{\\frac{\\partial s_3}{\\partial w_2}}\n",
    "= \\textcolor{green}{\\frac{d C^{(n)}}{d s_3}} \\cdot \\textcolor{purple}{z_2} \\qquad \\text{(3)}$$\n",
    "\n",
    "$$\\frac{\\partial C^{(n)}}{\\partial b_3} \n",
    "= \\frac{d C^{(n)}}{d s_3} \\cdot \\textcolor{purple}{\\frac{\\partial s_3}{\\partial b_3}}\n",
    "= \\textcolor{green}{\\frac{d C^{(n)}}{d s_3}} \\cdot \\textcolor{purple}{1} \\qquad \\text{(2)}$$\n",
    "\n",
    "---\n",
    "\n",
    "$$\\textcolor{green}{\\frac{d C^{(n)}}{d s_3}}\n",
    "= \\frac{d C^{(n)}}{d z_3} \\cdot \\frac{d z_3}{d s_3}\n",
    "= \\textcolor{green}{(z_3 - y) \\cdot z_3(1 - z_3)} \\qquad \\text{(1)}$$ \n",
    "\n",
    "---\n",
    "\n",
    "$$ w_1 ← w_1 - \\eta \\frac{\\partial C^{(n)}}{\\partial w_1} \n",
    "= w_1 - \\eta \\cdot \\textcolor{green}{(z_3 - y) \\cdot z_3(1 - z_3)} \\cdot \\textcolor{purple}{z_1}$$\n",
    "\n",
    "$$ w_2 ← w_2 - \\eta \\frac{\\partial C^{(n)}}{\\partial w_2} \n",
    "= w_2 - \\eta \\cdot \\textcolor{green}{(z_3 - y) \\cdot z_3(1 - z_3)} \\cdot \\textcolor{purple}{z_2}$$\n",
    "\n",
    "$$ b_3 ← b_3 - \\eta \\frac{\\partial C^{(n)}}{\\partial b_3} \n",
    "= b_3 - \\eta \\cdot \\textcolor{green}{(z_3 - y) \\cdot z_3(1 - z_3)} \\cdot \\textcolor{purple}{1}$$"
   ]
  },
  {
   "cell_type": "markdown",
   "id": "61bc74fd",
   "metadata": {},
   "source": [
    "![Image](https://github.com/user-attachments/assets/11ebca0e-1a92-49b7-bb00-1e75169fb57f)\n",
    "\n"
   ]
  },
  {
   "cell_type": "markdown",
   "id": "2948bd67",
   "metadata": {},
   "source": [
    "$$ s_3 = w_1 z_1 + w_2 z_2 + b_3 $$\n",
    "\n",
    "$$ s_1 = w_{11} x_1 + w_{21} x_2 + b_1 $$\n",
    "\n",
    "$$ s_2 = w_{12} x_1 + w_{22} x_2 + b_2 $$\n",
    "\n",
    "$$ z_3 = 1 / (1 + e^{-s_3}) $$\n",
    "\n",
    "$$ z_1 = 1 / (1 + e^{-s_1}) $$\n",
    "\n",
    "$$ z_2 = 1 / (1 + e^{-s_2}) $$\n",
    "\n",
    "---\n",
    "\n",
    "$$ \\text{For n-th input data within one epoch} $$\n",
    "\n",
    "$$ \\text{Let } y = y^{(n)} $$\n",
    "\n",
    "$$ C^{(n)} = \\frac{1}{2} (z_3 - y)^2 $$\n",
    "\n",
    "--- \n",
    "\n",
    "$$\\frac{\\partial C^{(n)}}{\\partial w_{11}} \n",
    "= \\frac{d C^{(n)}}{d s_1} \\cdot \\textcolor{purple}{\\frac{\\partial s_1}{\\partial w_{11}}}\n",
    "= \\textcolor{green}{\\frac{d C^{(n)}}{d s_1}} \\cdot \\textcolor{purple}{x_1} \\qquad \\text{(6)}$$\n",
    "\n",
    "$$\\frac{\\partial C^{(n)}}{\\partial w_{21}} \n",
    "= \\frac{d C^{(n)}}{d s_1} \\cdot \\textcolor{purple}{\\frac{\\partial s_1}{\\partial w_{21}}}\n",
    "= \\textcolor{green}{\\frac{d C^{(n)}}{d s_1}} \\cdot \\textcolor{purple}{x_2} \\qquad \\text{(6)}$$\n",
    "\n",
    "$$\\frac{\\partial C^{(n)}}{\\partial b_1} \n",
    "= \\frac{d C^{(n)}}{d s_1} \\cdot \\textcolor{purple}{\\frac{\\partial s_1}{\\partial b_1}}\n",
    "= \\textcolor{green}{\\frac{d C^{(n)}}{d s_1}} \\cdot \\textcolor{purple}{1} \\qquad \\text{(5)}$$\n",
    "\n",
    "---\n",
    "\n",
    "$$\\textcolor{green}{\\frac{d C^{(n)}}{d s_1}}\n",
    "= \\textcolor{blue}{(\\frac{d C^{(n)}}{d s_3})} \\cdot \\textcolor{orange}{\\frac{\\partial s_3}{\\partial z_1}} \\cdot \\textcolor{red}{\\frac{d z_1}{d s_1}}\n",
    "= \\textcolor{blue}{(z_3 - y) \\cdot z_3(1 - z_3)} \\cdot \\textcolor{orange}{w_1} \\cdot \\textcolor{red}{z_1 (1 - z_1)} \\qquad \\text{(4)}$$\n",
    "\n",
    "---\n",
    "\n",
    "$$ w_{11} ← w_{11} - \\eta \\frac{\\partial C^{(n)}}{\\partial w_{11}} \n",
    "= w_{11} - \\eta \\cdot \\textcolor{green}{(z_3 - y) \\cdot z_3(1 - z_3) \\cdot w_1 \\cdot z_1 (1 - z_1)} \\cdot \\textcolor{purple}{x_1}$$\n",
    "\n",
    "$$ w_{21} ← w_{21} - \\eta \\frac{\\partial C^{(n)}}{\\partial w_{21}} \n",
    "= w_{21} - \\eta \\cdot \\textcolor{green}{(z_3 - y) \\cdot z_3(1 - z_3) \\cdot w_1 \\cdot z_1 (1 - z_1)} \\cdot \\textcolor{purple}{x_2}$$\n",
    "\n",
    "$$ b_1 ← b_1 - \\eta \\frac{\\partial C^{(n)}}{\\partial b_1} \n",
    "= b_1 - \\eta \\cdot \\textcolor{green}{(z_3 - y) \\cdot z_3(1 - z_3) \\cdot w_1 \\cdot z_1 (1 - z_1)} \\cdot \\textcolor{purple}{1}$$"
   ]
  },
  {
   "cell_type": "code",
   "execution_count": 11,
   "id": "8eaaae5f",
   "metadata": {},
   "outputs": [],
   "source": [
    "import torch\n",
    "import torchvision.datasets as dsets\n",
    "import torchvision.transforms as transforms"
   ]
  },
  {
   "cell_type": "code",
   "execution_count": 12,
   "id": "e9430c3b",
   "metadata": {},
   "outputs": [],
   "source": [
    "device = 'cuda' if torch.cuda.is_available() else 'cpu'\n",
    "\n",
    "# for reproducibility\n",
    "torch.manual_seed(777)\n",
    "if device == 'cuda':\n",
    "    torch.cuda.manual_seed_all(777)"
   ]
  },
  {
   "cell_type": "code",
   "execution_count": 13,
   "id": "01b2263d",
   "metadata": {},
   "outputs": [],
   "source": [
    "# parameters\n",
    "learning_rate = 0.5\n",
    "batch_size = 10"
   ]
  },
  {
   "cell_type": "code",
   "execution_count": 14,
   "id": "68c04409",
   "metadata": {},
   "outputs": [],
   "source": [
    "# MNIST dataset\n",
    "mnist_train = dsets.MNIST(root='MNIST_data/',\n",
    "                          train=True,\n",
    "                          transform=transforms.ToTensor(),  # [0, 1] 범위로 정규화화\n",
    "                          download=True)\n",
    "\n",
    "mnist_test = dsets.MNIST(root='MNIST_data/',\n",
    "                         train=False,\n",
    "                         transform=transforms.ToTensor(),\n",
    "                         download=True)"
   ]
  },
  {
   "cell_type": "code",
   "execution_count": 15,
   "id": "693c7c32",
   "metadata": {},
   "outputs": [],
   "source": [
    "# dataset loader\n",
    "data_loader = torch.utils.data.DataLoader(dataset=mnist_train,\n",
    "                                          batch_size=batch_size,\n",
    "                                          shuffle=True,\n",
    "                                          drop_last=True)"
   ]
  },
  {
   "cell_type": "code",
   "execution_count": 16,
   "id": "5ba727e8",
   "metadata": {},
   "outputs": [],
   "source": [
    "w1 = torch.nn.Parameter(torch.Tensor(784, 30)).to(device)\n",
    "b1 = torch.nn.Parameter(torch.Tensor(30)).to(device)\n",
    "w2 = torch.nn.Parameter(torch.Tensor(30, 10)).to(device)\n",
    "b2 = torch.nn.Parameter(torch.Tensor(10)).to(device)"
   ]
  },
  {
   "cell_type": "code",
   "execution_count": 17,
   "id": "b85b8cba",
   "metadata": {},
   "outputs": [
    {
     "data": {
      "text/plain": [
       "tensor([ 0.1009, -0.2272, -0.1022, -0.9369,  0.6552, -0.8914,  0.1989,  0.7264,\n",
       "         0.3932, -0.5963], device='cuda:0', grad_fn=<ToCopyBackward0>)"
      ]
     },
     "execution_count": 17,
     "metadata": {},
     "output_type": "execute_result"
    }
   ],
   "source": [
    "torch.nn.init.normal_(w1)   # 평균이 0이고, 표준편차가 1인 정규 분포를 이용해 초기화\n",
    "torch.nn.init.normal_(b1)\n",
    "torch.nn.init.normal_(w2)\n",
    "torch.nn.init.normal_(b2)"
   ]
  },
  {
   "cell_type": "code",
   "execution_count": 18,
   "id": "7d8220c8",
   "metadata": {},
   "outputs": [],
   "source": [
    "def sigmoid(x):\n",
    "    # sigmoid function\n",
    "    return 1.0 / (1.0 + torch.exp(-x))"
   ]
  },
  {
   "cell_type": "code",
   "execution_count": 19,
   "id": "ef7087e4",
   "metadata": {},
   "outputs": [],
   "source": [
    "def sigmoid_prime(x):\n",
    "    # derivate of the sigmoid function\n",
    "    return sigmoid(x) * (1 - sigmoid(x))"
   ]
  },
  {
   "cell_type": "code",
   "execution_count": 20,
   "id": "46e69aa9",
   "metadata": {},
   "outputs": [
    {
     "name": "stdout",
     "output_type": "stream",
     "text": [
      "790\n",
      "839\n",
      "865\n",
      "879\n",
      "893\n",
      "879\n",
      "901\n",
      "895\n",
      "908\n",
      "905\n"
     ]
    }
   ],
   "source": [
    "X_test = mnist_test.test_data.view(-1, 28 * 28).float().to(device)[:1000]\n",
    "Y_test = mnist_test.test_labels.to(device)[:1000]\n",
    "\n",
    "i = 0\n",
    "while not i == 10000:\n",
    "    for X, Y in data_loader:\n",
    "        i += 1\n",
    "        \n",
    "        # forward\n",
    "        X = X.view(-1, 28 * 28).to(device)\n",
    "        Y = torch.zeros((batch_size, 10)).scatter_(1, Y.unsqueeze(1), 1).to(device)\n",
    "        l1 = torch.add(torch.matmul(X, w1), b1)\n",
    "        a1 = sigmoid(l1)\n",
    "        l2 = torch.add(torch.matmul(a1, w2), b2)\n",
    "        y_pred = sigmoid(l2)\n",
    "        \n",
    "        diff = y_pred - Y\n",
    "        \n",
    "        # Back prop (chain rule)                                # 앞의 설명 부분\n",
    "        d_l2 = diff * sigmoid_prime(l2)                         # (1)\n",
    "        d_b2 = d_l2                                             # (2)\n",
    "        d_w2 = torch.matmul(torch.transpose(a1, 0, 1), d_l2)    # (3)\n",
    "        \n",
    "        d_a1 = torch.matmul(d_l2, torch.transpose(w2, 0, 1))    # (4)\n",
    "        d_l1 = d_a1 * sigmoid_prime(l1)                         # (4)\n",
    "        d_b1 = d_l1                                             # (5)\n",
    "        d_w1 = torch.matmul(torch.transpose(X, 0, 1), d_l1)     # (6)\n",
    "\n",
    "        w1 = w1 - learning_rate * d_w1\n",
    "        b1 = b1 - learning_rate * torch.mean(d_b1, 0)\n",
    "        w2 = w2 - learning_rate * d_w2\n",
    "        b2 = b2 - learning_rate * torch.mean(d_b2, 0)\n",
    "\n",
    "        if i % 1000 == 0:\n",
    "            l1 = torch.add(torch.matmul(X_test, w1), b1)\n",
    "            a1 = sigmoid(l1)\n",
    "            l2 = torch.add(torch.matmul(a1, w2), b2)\n",
    "            y_pred = sigmoid(l2)\n",
    "            \n",
    "            acct_mat = torch.argmax(y_pred, 1) == Y_test\n",
    "            acct_res = acct_mat.sum()\n",
    "            print(acct_res.item())\n",
    "            \n",
    "        if i == 10000:\n",
    "            break"
   ]
  }
 ],
 "metadata": {
  "kernelspec": {
   "display_name": "venv",
   "language": "python",
   "name": "python3"
  },
  "language_info": {
   "codemirror_mode": {
    "name": "ipython",
    "version": 3
   },
   "file_extension": ".py",
   "mimetype": "text/x-python",
   "name": "python",
   "nbconvert_exporter": "python",
   "pygments_lexer": "ipython3",
   "version": "3.8.10"
  }
 },
 "nbformat": 4,
 "nbformat_minor": 5
}
